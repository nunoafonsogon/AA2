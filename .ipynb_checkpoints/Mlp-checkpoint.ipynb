{
 "cells": [
  {
   "cell_type": "code",
   "execution_count": null,
   "metadata": {},
   "outputs": [],
   "source": [
    "# Imports"
   ]
  },
  {
   "cell_type": "code",
   "execution_count": 1,
   "metadata": {},
   "outputs": [
    {
     "name": "stderr",
     "output_type": "stream",
     "text": [
      "Using TensorFlow backend.\n"
     ]
    }
   ],
   "source": [
    "import numpy as np \n",
    "import pandas as pd \n",
    "from PIL import Image\n",
    "import matplotlib.pyplot as plt\n",
    "import warnings\n",
    "from keras.utils.np_utils import to_categorical\n",
    "from sklearn.model_selection import train_test_split\n",
    "from keras.utils import np_utils\n",
    "from keras.models import Sequential\n",
    "from keras.layers import Dense\n",
    "from keras.layers import Flatten"
   ]
  },
  {
   "cell_type": "code",
   "execution_count": 2,
   "metadata": {},
   "outputs": [
    {
     "name": "stdout",
     "output_type": "stream",
     "text": [
      "['cell_images']\n"
     ]
    }
   ],
   "source": [
    "import os\n",
    "print(os.listdir(r\"C:\\Users\\paulo\\OneDrive\\Ambiente de Trabalho\\Escola\\Apendizagem automatica 2\\Trabalho\\AA2\\input\"))\n",
    "#print(os.listdir(r\"C:\\Users\\Nuno\\Desktop\\trabalhoAA2\\input\"))"
   ]
  },
  {
   "cell_type": "code",
   "execution_count": 3,
   "metadata": {},
   "outputs": [],
   "source": [
    "#Ler dados"
   ]
  },
  {
   "cell_type": "code",
   "execution_count": 4,
   "metadata": {},
   "outputs": [],
   "source": [
    "caminho_Infected=r\"C:\\Users\\paulo\\OneDrive\\Ambiente de Trabalho\\Escola\\Apendizagem automatica 2\\Trabalho\\AA2\\input\\cell_images\\Parasitized\"\n",
    "caminho_Uninfected=r\"C:\\Users\\paulo\\OneDrive\\Ambiente de Trabalho\\Escola\\Apendizagem automatica 2\\Trabalho\\AA2\\input\\cell_images\\Uninfected\"\n",
    "#caminho_Infected=r\"C:\\Users\\Nuno\\Desktop\\trabalhoAA2\\input\\cell_images\\Parasitized\"\n",
    "#caminho_Uninfected=r\"C:\\Users\\Nuno\\Desktop\\trabalhoAA2\\input\\cell_images\\Uninfected\"\n",
    "\n",
    "parasitized = os.listdir(caminho_Infected)\n",
    "uninfected = os.listdir(caminho_Uninfected)\n",
    "\n",
    "parasitized.remove(\"Thumbs.db\") #\n",
    "uninfected.remove(\"Thumbs.db\")  # \n",
    "\n",
    "tamanho=50 # Tamanho da imagem se tamanho =50 entao resize para 50X50\n",
    "\n",
    "parasitized_images = []\n",
    "for p in parasitized:\n",
    "    \n",
    "    img = Image.open(caminho_Infected+\"\\\\\"+p)\n",
    "    img = img.resize((tamanho,tamanho))\n",
    "    parasitized_images.append(img)\n",
    "\n",
    "uninfected_images = []\n",
    "for u in uninfected:\n",
    "    img = Image.open(caminho_Uninfected+\"\\\\\"+u)\n",
    "    img = img.resize((tamanho,tamanho))\n",
    "    uninfected_images.append(img)"
   ]
  },
  {
   "cell_type": "code",
   "execution_count": null,
   "metadata": {},
   "outputs": [],
   "source": [
    "#Preparar os dados"
   ]
  },
  {
   "cell_type": "code",
   "execution_count": 5,
   "metadata": {},
   "outputs": [
    {
     "name": "stdout",
     "output_type": "stream",
     "text": [
      "x_train shape:  (22046, 50, 50, 3)\n",
      "x_test shape:  (5512, 50, 50, 3)\n",
      "y_train shape:  (22046, 2)\n",
      "y_test shape:  (5512, 2)\n"
     ]
    }
   ],
   "source": [
    "### juntar as duas pastas de imagens na variavel x\n",
    "x_array = np.empty((len(parasitized_images)+len(uninfected_images), tamanho, tamanho, 3))\n",
    "x_array = x_array.astype(int)\n",
    "index = 0\n",
    "for i in range(x_array.shape[0]):\n",
    "    if i < len(parasitized_images):\n",
    "        x_array[i] = np.array(parasitized_images[i])\n",
    "    else:\n",
    "        x_array[i] = np.array(uninfected_images[index])\n",
    "        index += 1\n",
    "\n",
    "# criar variavel y\n",
    "y_array = np.append(np.ones(len(parasitized_images)), np.zeros(len(uninfected_images)))\n",
    "y_array = to_categorical(y_array, num_classes = 2)\n",
    "\n",
    "\n",
    "# dar split ao dataset para ter variaveis de treino e de teste\n",
    "test_size=0.2\n",
    "x_train, x_test, y_train, y_test = train_test_split(x_array, y_array, random_state = 42, test_size = test_size)\n",
    "print(\"x_train shape: \",x_train.shape)\n",
    "print(\"x_test shape: \",x_test.shape)\n",
    "print(\"y_train shape: \",y_train.shape)\n",
    "print(\"y_test shape: \",y_test.shape)"
   ]
  },
  {
   "cell_type": "code",
   "execution_count": 6,
   "metadata": {},
   "outputs": [],
   "source": [
    "#graficos"
   ]
  },
  {
   "cell_type": "code",
   "execution_count": 7,
   "metadata": {},
   "outputs": [],
   "source": [
    "def print_history_accuracy(history):\n",
    "    print(history.history.keys())\n",
    "    plt.plot(history.history['accuracy'])\n",
    "    plt.plot(history.history['val_accuracy'])\n",
    "    plt.title('model accuracy')\n",
    "    plt.ylabel('accuracy')\n",
    "    plt.xlabel('epoch')\n",
    "    plt.legend(['train', 'test'], loc='upper left')"
   ]
  },
  {
   "cell_type": "code",
   "execution_count": 8,
   "metadata": {},
   "outputs": [],
   "source": [
    "# Mlp"
   ]
  },
  {
   "cell_type": "code",
   "execution_count": 9,
   "metadata": {},
   "outputs": [
    {
     "name": "stdout",
     "output_type": "stream",
     "text": [
      "(22046, 50, 50, 3)\n",
      "(22046, 7500)\n",
      "Model: \"sequential_1\"\n",
      "_________________________________________________________________\n",
      "Layer (type)                 Output Shape              Param #   \n",
      "=================================================================\n",
      "dense_1 (Dense)              (None, 7500)              56257500  \n",
      "_________________________________________________________________\n",
      "dense_2 (Dense)              (None, 2)                 15002     \n",
      "=================================================================\n",
      "Total params: 56,272,502\n",
      "Trainable params: 56,272,502\n",
      "Non-trainable params: 0\n",
      "_________________________________________________________________\n",
      "None\n",
      "Train on 22046 samples, validate on 5512 samples\n",
      "Epoch 1/3\n",
      " - 60s - loss: 2.5500 - accuracy: 0.5913 - val_loss: 0.7507 - val_accuracy: 0.5914\n",
      "Epoch 2/3\n",
      " - 60s - loss: 0.6878 - accuracy: 0.6328 - val_loss: 0.6095 - val_accuracy: 0.6647\n",
      "Epoch 3/3\n",
      " - 59s - loss: 0.6160 - accuracy: 0.6623 - val_loss: 0.6043 - val_accuracy: 0.6622\n",
      "dict_keys(['val_loss', 'val_accuracy', 'loss', 'accuracy'])\n",
      "Scores:  [0.6042899765366221, 0.6621915698051453]\n",
      "Erro modelo MLP: 33.78%\n"
     ]
    },
    {
     "data": {
      "image/png": "[encoded data removed]",
      "text/plain": [
       "<Figure size 432x288 with 1 Axes>"
      ]
     },
     "metadata": {
      "needs_background": "light"
     },
     "output_type": "display_data"
    }
   ],
   "source": [
    "def model_mlp(num_pixels):\n",
    "    model = Sequential()\n",
    "    model.add(Dense(num_pixels, input_dim=num_pixels, kernel_initializer='normal',\n",
    "                    activation='relu'))\n",
    "    model.add(Dense(2, kernel_initializer='normal', activation='softmax'))\n",
    "    model.compile(loss='categorical_crossentropy', optimizer='adam', metrics=['accuracy'])\n",
    "    return model\n",
    "\n",
    "def mlp(x_train,y_train,x_test,y_test):\n",
    "    num_pixels=x_train.shape[1] * x_train.shape[2]*x_train.shape[3]\n",
    "    print(x_train.shape)\n",
    "    x_train = x_train.reshape(x_train.shape[0], num_pixels).astype('float32')\n",
    "    x_test = x_test.reshape(x_test.shape[0], num_pixels).astype('float32')\n",
    "    print(x_train.shape)\n",
    "\n",
    "    x_train = x_train / 255\n",
    "    x_test = x_test / 255\n",
    "\n",
    "    model = model_mlp(num_pixels)\n",
    "    print(model.summary())\n",
    "    history=model.fit(x_train, y_train, validation_data=(x_test, y_test), epochs=3, batch_size=32,\n",
    "                      verbose=2)\n",
    "    print_history_accuracy(history)\n",
    "    scores = model.evaluate(x_test, y_test, verbose=0)\n",
    "    print('Scores: ', scores)\n",
    "    print(\"Erro modelo MLP: %.2f%%\" % (100-scores[1]*100))\n",
    "    \n",
    "    \n",
    "mlp(x_train,y_train,x_test,y_test)"
   ]
  },
  {
   "cell_type": "code",
   "execution_count": null,
   "metadata": {},
   "outputs": [],
   "source": []
  }
 ],
 "metadata": {
  "kernelspec": {
   "display_name": "Python 3",
   "language": "python",
   "name": "python3"
  },
  "language_info": {
   "codemirror_mode": {
    "name": "ipython",
    "version": 3
   },
   "file_extension": ".py",
   "mimetype": "text/x-python",
   "name": "python",
   "nbconvert_exporter": "python",
   "pygments_lexer": "ipython3",
   "version": "3.7.4"
  }
 },
 "nbformat": 4,
 "nbformat_minor": 2
}
