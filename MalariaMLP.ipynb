{
 "cells": [
  {
   "cell_type": "code",
   "execution_count": 1,
   "metadata": {},
   "outputs": [],
   "source": [
    "# Imports"
   ]
  },
  {
   "cell_type": "code",
   "execution_count": 2,
   "metadata": {},
   "outputs": [
    {
     "name": "stderr",
     "output_type": "stream",
     "text": [
      "Using TensorFlow backend.\n"
     ]
    }
   ],
   "source": [
    "import numpy as np \n",
    "import pandas as pd \n",
    "from PIL import Image\n",
    "import matplotlib.pyplot as plt\n",
    "import warnings\n",
    "from keras.utils.np_utils import to_categorical\n",
    "from sklearn.model_selection import train_test_split\n",
    "from keras.utils import np_utils\n",
    "from keras.models import Sequential\n",
    "from keras.layers import Dense\n",
    "from keras.layers import Flatten\n",
    "from keras import optimizers\n"
   ]
  },
  {
   "cell_type": "code",
   "execution_count": 3,
   "metadata": {},
   "outputs": [
    {
     "name": "stdout",
     "output_type": "stream",
     "text": [
      "['cell_images']\n"
     ]
    }
   ],
   "source": [
    "import os\n",
    "#print(os.listdir(r\"C:\\Users\\paulo\\OneDrive\\Ambiente de Trabalho\\Escola\\Apendizagem automatica 2\\Trabalho\\AA2\\input\"))\n",
    "print(os.listdir(r\"C:\\Users\\Nuno\\Desktop\\trabalhoAA2\\input\"))\n",
    "#print(os.listdir(\"../input\"))#Kaggle"
   ]
  },
  {
   "cell_type": "code",
   "execution_count": 4,
   "metadata": {},
   "outputs": [],
   "source": [
    "#Ler dados"
   ]
  },
  {
   "cell_type": "code",
   "execution_count": 5,
   "metadata": {},
   "outputs": [],
   "source": [
    "#caminho_Infected=r\"C:\\Users\\paulo\\OneDrive\\Ambiente de Trabalho\\Escola\\Apendizagem automatica 2\\Trabalho\\AA2\\input\\cell_images\\Parasitized\"\n",
    "#caminho_Uninfected=r\"C:\\Users\\paulo\\OneDrive\\Ambiente de Trabalho\\Escola\\Apendizagem automatica 2\\Trabalho\\AA2\\input\\cell_images\\Uninfected\"\n",
    "caminho_Infected=r\"C:\\Users\\Nuno\\Desktop\\trabalhoAA2\\input\\cell_images\\Parasitized\"\n",
    "caminho_Uninfected=r\"C:\\Users\\Nuno\\Desktop\\trabalhoAA2\\input\\cell_images\\Uninfected\"\n",
    "#caminho_Infected=r\"../input/cell-images-for-detecting-malaria/cell_images/Parasitized\"#Kaggle\n",
    "#caminho_Uninfected=r\"../input/cell-images-for-detecting-malaria/cell_images/Uninfected\"#Kaggle\n",
    "\n",
    "parasitized = os.listdir(caminho_Infected)\n",
    "uninfected = os.listdir(caminho_Uninfected)\n",
    "\n",
    "parasitized.remove(\"Thumbs.db\") #\n",
    "uninfected.remove(\"Thumbs.db\")  # \n",
    "\n",
    "tamanho=28 # Tamanho da imagem se tamanho =50 entao resize para 50X50\n",
    "\n",
    "parasitized_images = []\n",
    "for p in parasitized:\n",
    "    \n",
    "    #img = Image.open(caminho_Infected+\"\\\\\"+p)\n",
    "    img = Image.open(caminho_Infected+\"//\"+p)#kaggle\n",
    "    img = img.resize((tamanho,tamanho))\n",
    "    parasitized_images.append(img)\n",
    "\n",
    "uninfected_images = []\n",
    "for u in uninfected:\n",
    "    #img = Image.open(caminho_Uninfected+\"\\\\\"+u)\n",
    "    img = Image.open(caminho_Uninfected+\"//\"+u)#Kaggle\n",
    "    img = img.resize((tamanho,tamanho))\n",
    "    uninfected_images.append(img)"
   ]
  },
  {
   "cell_type": "code",
   "execution_count": 6,
   "metadata": {},
   "outputs": [],
   "source": [
    "#Preparar os dados"
   ]
  },
  {
   "cell_type": "code",
   "execution_count": 7,
   "metadata": {},
   "outputs": [
    {
     "name": "stdout",
     "output_type": "stream",
     "text": [
      "x_train shape:  (22046, 28, 28, 3)\n",
      "x_test shape:  (5512, 28, 28, 3)\n",
      "y_train shape:  (22046, 2)\n",
      "y_test shape:  (5512, 2)\n"
     ]
    }
   ],
   "source": [
    "### juntar as duas pastas de imagens na variavel x\n",
    "x_array = np.empty((len(parasitized_images)+len(uninfected_images), tamanho, tamanho, 3))\n",
    "x_array = x_array.astype(int)\n",
    "index = 0\n",
    "for i in range(x_array.shape[0]):\n",
    "    if i < len(parasitized_images):\n",
    "        x_array[i] = np.array(parasitized_images[i])\n",
    "    else:\n",
    "        x_array[i] = np.array(uninfected_images[index])\n",
    "        index += 1\n",
    "\n",
    "# criar variavel y\n",
    "y_array = np.append(np.ones(len(parasitized_images)), np.zeros(len(uninfected_images)))\n",
    "y_array = to_categorical(y_array, num_classes = 2)\n",
    "\n",
    "\n",
    "# dar split ao dataset para ter variaveis de treino e de teste\n",
    "test_size=0.2\n",
    "x_train, x_test, y_train, y_test = train_test_split(x_array, y_array, random_state = 42, test_size = test_size)\n",
    "print(\"x_train shape: \",x_train.shape)\n",
    "print(\"x_test shape: \",x_test.shape)\n",
    "print(\"y_train shape: \",y_train.shape)\n",
    "print(\"y_test shape: \",y_test.shape)"
   ]
  },
  {
   "cell_type": "code",
   "execution_count": 8,
   "metadata": {},
   "outputs": [],
   "source": [
    "#graficos"
   ]
  },
  {
   "cell_type": "code",
   "execution_count": 9,
   "metadata": {},
   "outputs": [],
   "source": [
    "def print_history_accuracy(history):\n",
    "    print(history.history.keys())\n",
    "    plt.plot(history.history['accuracy'])\n",
    "    plt.plot(history.history['val_accuracy'])\n",
    "    plt.title('model accuracy')\n",
    "    plt.ylabel('accuracy')\n",
    "    plt.xlabel('epoch')\n",
    "    plt.legend(['train', 'test'], loc='upper left')"
   ]
  },
  {
   "cell_type": "code",
   "execution_count": 10,
   "metadata": {},
   "outputs": [],
   "source": [
    "# Mlp"
   ]
  },
  {
   "cell_type": "code",
   "execution_count": 11,
   "metadata": {},
   "outputs": [
    {
     "name": "stdout",
     "output_type": "stream",
     "text": [
      "(22046, 28, 28, 3)\n",
      "(22046, 2352)\n",
      "Model: \"sequential_1\"\n",
      "_________________________________________________________________\n",
      "Layer (type)                 Output Shape              Param #   \n",
      "=================================================================\n",
      "dense_1 (Dense)              (None, 2352)              5534256   \n",
      "_________________________________________________________________\n",
      "dense_2 (Dense)              (None, 2)                 4706      \n",
      "=================================================================\n",
      "Total params: 5,538,962\n",
      "Trainable params: 5,538,962\n",
      "Non-trainable params: 0\n",
      "_________________________________________________________________\n",
      "None\n",
      "Train on 22046 samples, validate on 5512 samples\n",
      "Epoch 1/50\n",
      " - 82s - loss: 0.6541 - accuracy: 0.6247 - val_loss: 0.6085 - val_accuracy: 0.6704\n",
      "Epoch 2/50\n",
      " - 82s - loss: 0.6062 - accuracy: 0.6689 - val_loss: 0.5927 - val_accuracy: 0.6899\n",
      "Epoch 3/50\n",
      " - 83s - loss: 0.5871 - accuracy: 0.6859 - val_loss: 0.5903 - val_accuracy: 0.6909\n",
      "Epoch 4/50\n",
      " - 82s - loss: 0.5802 - accuracy: 0.6959 - val_loss: 0.5921 - val_accuracy: 0.6840\n",
      "Epoch 5/50\n",
      " - 83s - loss: 0.5747 - accuracy: 0.6976 - val_loss: 0.5841 - val_accuracy: 0.6910\n",
      "Epoch 6/50\n",
      " - 82s - loss: 0.5674 - accuracy: 0.7038 - val_loss: 0.5804 - val_accuracy: 0.6985\n",
      "Epoch 7/50\n",
      " - 82s - loss: 0.5635 - accuracy: 0.7090 - val_loss: 0.5792 - val_accuracy: 0.6961\n",
      "Epoch 8/50\n",
      " - 82s - loss: 0.5606 - accuracy: 0.7121 - val_loss: 0.6001 - val_accuracy: 0.6736\n",
      "Epoch 9/50\n",
      " - 82s - loss: 0.5559 - accuracy: 0.7153 - val_loss: 0.5849 - val_accuracy: 0.6898\n",
      "Epoch 10/50\n",
      " - 85s - loss: 0.5500 - accuracy: 0.7215 - val_loss: 0.5757 - val_accuracy: 0.6996\n",
      "Epoch 11/50\n",
      " - 89s - loss: 0.5488 - accuracy: 0.7231 - val_loss: 0.5770 - val_accuracy: 0.6990\n",
      "Epoch 12/50\n",
      " - 83s - loss: 0.5446 - accuracy: 0.7236 - val_loss: 0.5725 - val_accuracy: 0.7041\n",
      "Epoch 13/50\n",
      " - 86s - loss: 0.5400 - accuracy: 0.7303 - val_loss: 0.5667 - val_accuracy: 0.7056\n",
      "Epoch 14/50\n",
      " - 82s - loss: 0.5373 - accuracy: 0.7334 - val_loss: 0.5778 - val_accuracy: 0.6967\n",
      "Epoch 15/50\n",
      " - 82s - loss: 0.5338 - accuracy: 0.7332 - val_loss: 0.5753 - val_accuracy: 0.6959\n",
      "Epoch 16/50\n",
      " - 82s - loss: 0.5320 - accuracy: 0.7387 - val_loss: 0.5628 - val_accuracy: 0.7085\n",
      "Epoch 17/50\n",
      " - 84s - loss: 0.5300 - accuracy: 0.7354 - val_loss: 0.5671 - val_accuracy: 0.7017\n",
      "Epoch 18/50\n",
      " - 82s - loss: 0.5282 - accuracy: 0.7383 - val_loss: 0.5601 - val_accuracy: 0.7066\n",
      "Epoch 19/50\n",
      " - 83s - loss: 0.5185 - accuracy: 0.7458 - val_loss: 0.5608 - val_accuracy: 0.7103\n",
      "Epoch 20/50\n",
      " - 83s - loss: 0.5174 - accuracy: 0.7455 - val_loss: 0.5595 - val_accuracy: 0.7108\n",
      "Epoch 21/50\n",
      " - 83s - loss: 0.5148 - accuracy: 0.7492 - val_loss: 0.5601 - val_accuracy: 0.7119\n",
      "Epoch 22/50\n",
      " - 85s - loss: 0.5142 - accuracy: 0.7496 - val_loss: 0.5601 - val_accuracy: 0.7132\n",
      "Epoch 23/50\n",
      " - 83s - loss: 0.5113 - accuracy: 0.7487 - val_loss: 0.5543 - val_accuracy: 0.7163\n",
      "Epoch 24/50\n",
      " - 82s - loss: 0.5098 - accuracy: 0.7538 - val_loss: 0.5973 - val_accuracy: 0.6754\n",
      "Epoch 25/50\n",
      " - 82s - loss: 0.5050 - accuracy: 0.7551 - val_loss: 0.5587 - val_accuracy: 0.7123\n",
      "Epoch 26/50\n",
      " - 88s - loss: 0.5028 - accuracy: 0.7569 - val_loss: 0.5532 - val_accuracy: 0.7184\n",
      "Epoch 27/50\n",
      " - 85s - loss: 0.4984 - accuracy: 0.7628 - val_loss: 0.5532 - val_accuracy: 0.7181\n",
      "Epoch 28/50\n",
      " - 75s - loss: 0.4957 - accuracy: 0.7633 - val_loss: 0.5540 - val_accuracy: 0.7202\n",
      "Epoch 29/50\n",
      " - 70s - loss: 0.4933 - accuracy: 0.7655 - val_loss: 0.5517 - val_accuracy: 0.7219\n",
      "Epoch 30/50\n",
      " - 81s - loss: 0.4932 - accuracy: 0.7647 - val_loss: 0.5486 - val_accuracy: 0.7204\n",
      "Epoch 31/50\n",
      " - 85s - loss: 0.4901 - accuracy: 0.7693 - val_loss: 0.5543 - val_accuracy: 0.7202\n",
      "Epoch 32/50\n",
      " - 84s - loss: 0.4864 - accuracy: 0.7701 - val_loss: 0.5483 - val_accuracy: 0.7239\n",
      "Epoch 33/50\n",
      " - 82s - loss: 0.4827 - accuracy: 0.7720 - val_loss: 0.5531 - val_accuracy: 0.7221\n",
      "Epoch 34/50\n",
      " - 83s - loss: 0.4791 - accuracy: 0.7781 - val_loss: 0.5572 - val_accuracy: 0.7141\n",
      "Epoch 35/50\n",
      " - 82s - loss: 0.4772 - accuracy: 0.7772 - val_loss: 0.5594 - val_accuracy: 0.7119\n",
      "Epoch 36/50\n",
      " - 82s - loss: 0.4755 - accuracy: 0.7784 - val_loss: 0.5907 - val_accuracy: 0.6872\n",
      "Epoch 37/50\n",
      " - 82s - loss: 0.4762 - accuracy: 0.7773 - val_loss: 0.5649 - val_accuracy: 0.7148\n",
      "Epoch 38/50\n",
      " - 82s - loss: 0.4717 - accuracy: 0.7825 - val_loss: 0.5522 - val_accuracy: 0.7210\n",
      "Epoch 39/50\n",
      " - 82s - loss: 0.4706 - accuracy: 0.7792 - val_loss: 0.5664 - val_accuracy: 0.7139\n",
      "Epoch 40/50\n",
      " - 73s - loss: 0.4662 - accuracy: 0.7822 - val_loss: 0.5780 - val_accuracy: 0.6934\n",
      "Epoch 41/50\n",
      " - 70s - loss: 0.4628 - accuracy: 0.7836 - val_loss: 0.5578 - val_accuracy: 0.7197\n",
      "Epoch 42/50\n",
      " - 71s - loss: 0.4618 - accuracy: 0.7879 - val_loss: 0.5565 - val_accuracy: 0.7219\n",
      "Epoch 43/50\n",
      " - 70s - loss: 0.4602 - accuracy: 0.7893 - val_loss: 0.5476 - val_accuracy: 0.7161\n",
      "Epoch 44/50\n",
      " - 69s - loss: 0.4569 - accuracy: 0.7911 - val_loss: 0.5442 - val_accuracy: 0.7300\n",
      "Epoch 45/50\n",
      " - 70s - loss: 0.4545 - accuracy: 0.7947 - val_loss: 0.5415 - val_accuracy: 0.7262\n",
      "Epoch 46/50\n",
      " - 70s - loss: 0.4519 - accuracy: 0.7947 - val_loss: 0.5498 - val_accuracy: 0.7215\n",
      "Epoch 47/50\n",
      " - 70s - loss: 0.4500 - accuracy: 0.7944 - val_loss: 0.5830 - val_accuracy: 0.7057\n",
      "Epoch 48/50\n",
      " - 70s - loss: 0.4511 - accuracy: 0.7950 - val_loss: 0.5426 - val_accuracy: 0.7279\n",
      "Epoch 49/50\n",
      " - 69s - loss: 0.4435 - accuracy: 0.8032 - val_loss: 0.5397 - val_accuracy: 0.7313\n",
      "Epoch 50/50\n",
      " - 70s - loss: 0.4428 - accuracy: 0.8017 - val_loss: 0.5843 - val_accuracy: 0.6898\n",
      "dict_keys(['val_loss', 'val_accuracy', 'loss', 'accuracy'])\n"
     ]
    },
    {
     "data": {
      "image/png": "[encoded data removed]",
      "text/plain": [
       "<Figure size 432x288 with 1 Axes>"
      ]
     },
     "metadata": {
      "needs_background": "light"
     },
     "output_type": "display_data"
    }
   ],
   "source": [
    "\n",
    "def model_mlp(num_pixels):\n",
    "    model = Sequential()\n",
    "    model.add(Dense(num_pixels, input_dim=num_pixels, kernel_initializer='normal',\n",
    "                    activation='relu'))\n",
    "\n",
    "    model.add(Dense(2, kernel_initializer='normal', activation='softmax'))\n",
    "    opt= optimizers.Adam(learning_rate=0.00001, beta_1=0.9, beta_2=0.999, amsgrad=False)\n",
    "\n",
    "    model.compile(loss='categorical_crossentropy', optimizer=opt, metrics=['accuracy'])\n",
    "    return model\n",
    "\n",
    "def mlp(x_train,y_train,x_test,y_test):\n",
    "    num_pixels=x_train.shape[1] * x_train.shape[2]*x_train.shape[3]\n",
    "    print(x_train.shape)\n",
    "    x_train = x_train.reshape(x_train.shape[0], num_pixels).astype('float32')\n",
    "    x_test = x_test.reshape(x_test.shape[0], num_pixels).astype('float32')\n",
    "    print(x_train.shape)\n",
    "\n",
    "    x_train = x_train / 255\n",
    "    x_test = x_test / 255\n",
    "\n",
    "    model = model_mlp(num_pixels)\n",
    "    print(model.summary())\n",
    "    history=model.fit(x_train, y_train, validation_data=(x_test, y_test), epochs=50, batch_size=32,\n",
    "                      verbose=2)\n",
    "    print_history_accuracy(history)\n",
    "    scores = model.evaluate(x_test, y_test, verbose=0)\n",
    "    return history, scores;\n",
    "    \n",
    "history,scores=mlp(x_train,y_train,x_test,y_test)"
   ]
  },
  {
   "cell_type": "code",
   "execution_count": 12,
   "metadata": {},
   "outputs": [
    {
     "name": "stdout",
     "output_type": "stream",
     "text": [
      "dict_keys(['val_loss', 'val_accuracy', 'loss', 'accuracy'])\n",
      "Scores:  [0.584310364134945, 0.6897677779197693]\n",
      "Erro modelo MLP: 31.02%\n"
     ]
    },
    {
     "data": {
      "image/png": "[encoded data removed]",
      "text/plain": [
       "<Figure size 432x288 with 1 Axes>"
      ]
     },
     "metadata": {
      "needs_background": "light"
     },
     "output_type": "display_data"
    }
   ],
   "source": [
    "print_history_accuracy(history)\n",
    "print('Scores: ', scores)\n",
    "print(\"Erro modelo MLP: %.2f%%\" % (100-scores[1]*100))"
   ]
  }
 ],
 "metadata": {
  "kernelspec": {
   "display_name": "Python 3",
   "language": "python",
   "name": "python3"
  },
  "language_info": {
   "codemirror_mode": {
    "name": "ipython",
    "version": 3
   },
   "file_extension": ".py",
   "mimetype": "text/x-python",
   "name": "python",
   "nbconvert_exporter": "python",
   "pygments_lexer": "ipython3",
   "version": "3.7.6"
  }
 },
 "nbformat": 4,
 "nbformat_minor": 4
}
